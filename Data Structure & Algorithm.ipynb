{
 "cells": [
  {
   "cell_type": "markdown",
   "metadata": {},
   "source": [
    "# 이진 탐색(Binary Search)\n",
    "\n",
    "- O(log n)"
   ]
  },
  {
   "cell_type": "code",
   "execution_count": 2,
   "metadata": {
    "collapsed": true
   },
   "outputs": [],
   "source": [
    "def binary_search(list, item):\n",
    "    low = 0\n",
    "    high = len(list) - 1\n",
    "    \n",
    "    while low <= high:\n",
    "        mid = (low + high) // 2\n",
    "        guess = list[mid]\n",
    "        \n",
    "        if guess == item:\n",
    "            return mid\n",
    "        if guess > item:\n",
    "            high = mid - 1\n",
    "        else: # guess < item 인 경우\n",
    "            low = mid + 1\n",
    "    return None"
   ]
  },
  {
   "cell_type": "code",
   "execution_count": 6,
   "metadata": {},
   "outputs": [
    {
     "name": "stdout",
     "output_type": "stream",
     "text": [
      "4\n",
      "None\n"
     ]
    }
   ],
   "source": [
    "my_list = [1, 4, 6, 7, 8, 17, 23]\n",
    "\n",
    "print(binary_search(my_list, 8))\n",
    "print(binary_search(my_list, -1))"
   ]
  },
  {
   "cell_type": "markdown",
   "metadata": {},
   "source": [
    "# Big O notation  \n",
    "- 알고리즘이 동작하기 위해 필요한 연산 횟수를 나타냄\n",
    "- 모든 경우의 연산 횟수를 가지는 최악의 경우에 대한 것\n",
    "- 많이 사용하는 빅오 실행 시간의 예(빠른 것부터 느린 순서)\n",
    "  0. O(log n), 로그 시간: 예) 이진 탐색 \n",
    "  0. O(n), 선형 시간: 예) 단순 탐색\n",
    "  0. O(n * log n): 예) 퀵 정렬과 같은 빠른 정렬 알고리즘\n",
    "  0. O(n^2): 예) 선택 정렬과 같은 느린 정렬 알고리즘\n",
    "  0. O(n!): 예) 외판원 문제와 같이 정말 느린 알고리즘"
   ]
  },
  {
   "cell_type": "markdown",
   "metadata": {},
   "source": [
    "# 연결 리스트(Linked List)와 배열(Array)\n",
    "- 연결 리스트(Linked List)\n",
    "  - 각 노드가 데이터와 포인터를 가지고 한 줄로 연결되어 있는 방식\n",
    "  - 각 원소에는 목록의 다음 원소에 대한 주소가 저장되어 있음\n",
    "  - 이웃하지 않은 여러 가지 임의의 메모리 주소들이 하나의 목록으로 연결되어 있는 것 \n",
    " \n",
    "  - 장점\n",
    "    - 원소를 추가, 삭제하기 좋음\n",
    "    \n",
    "  - 단점\n",
    "    - 특정 원소를 알기 위해서는 앞의 원소부터 순차적으로 찾아 나가야 함(원소가 이웃 하고 있지 않기 때문)\n",
    "    - 순차 접근(sequential access)만 가능\n",
    "    \n",
    "- 배열(Array)\n",
    "  - 순서대로 번호가 붙은 원소들이 연속적인 형태로 구성된 구조\n",
    "  - 모든 원소의 주소를 다 알고 있음\n",
    "  \n",
    "  - 장점\n",
    "    - 임의의 원소값을 쉽게 읽을 수 있음(임의 접근(random access)이 가능)\n",
    "    - 읽기 속도가 빠름\n",
    "  \n",
    "  - 단점\n",
    "    - 원소를 삽입하기 위해서는 다음에 오는 모든 원소의 위치를 바꾸어야 함\n",
    "***\n",
    "\n",
    "|      | 배열 | 리스트 |\n",
    "|------|------|--------|\n",
    "| 읽기 | O(1) | O(n)   |\n",
    "| 삽입 | O(n) | O(1)   |\n",
    "| 삭제 | O(n) | O(1)   |"
   ]
  },
  {
   "cell_type": "markdown",
   "metadata": {},
   "source": [
    "# 선택 정렬(Selection Sort)\n",
    "- O(n^2)"
   ]
  },
  {
   "cell_type": "code",
   "execution_count": 10,
   "metadata": {},
   "outputs": [
    {
     "name": "stdout",
     "output_type": "stream",
     "text": [
      "[3, 6, 7, 8, 15]\n"
     ]
    }
   ],
   "source": [
    "def findSmallest(arr):\n",
    "    smallest = arr[0]\n",
    "    smallest_index = 0\n",
    "    for i in range(1, len(arr)):\n",
    "        if arr[i] < smallest:\n",
    "            smallest = arr[i]\n",
    "            smallest_index = i\n",
    "    return smallest_index\n",
    "    \n",
    "def selectionSort(arr):\n",
    "    newArr = []\n",
    "    for i in range(len(arr)):\n",
    "        smallest = findSmallest(arr)\n",
    "        newArr.append(arr.pop(smallest))\n",
    "    return newArr\n",
    "\n",
    "print(selectionSort([6, 7, 3, 8, 15]))"
   ]
  },
  {
   "cell_type": "markdown",
   "metadata": {},
   "source": [
    "# 재귀(Recursion)\n",
    "- 함수가 자기 자신을 호출하는 것\n"
   ]
  },
  {
   "cell_type": "code",
   "execution_count": 4,
   "metadata": {},
   "outputs": [
    {
     "name": "stdout",
     "output_type": "stream",
     "text": [
      "3\n",
      "2\n",
      "1\n"
     ]
    }
   ],
   "source": [
    "def countdown(i):\n",
    "    print(i)\n",
    "    if i <= 1:  # 기본 단계(무한 반복으로 빠져들지 않게 하는 부분)\n",
    "        return\n",
    "    else:\n",
    "        countdown(i-1)  # 재귀 단계\n",
    "        \n",
    "countdown(3)"
   ]
  },
  {
   "cell_type": "markdown",
   "metadata": {},
   "source": [
    "# 스택(Stack)\n",
    "- Push(삽입)와 Pop(떼어내고 읽기)만 가능한 자료구조"
   ]
  },
  {
   "cell_type": "code",
   "execution_count": 8,
   "metadata": {},
   "outputs": [
    {
     "data": {
      "text/plain": [
       "24"
      ]
     },
     "execution_count": 8,
     "metadata": {},
     "output_type": "execute_result"
    }
   ],
   "source": [
    "def fact(x):\n",
    "    if x == 1:\n",
    "        return 1\n",
    "    else:\n",
    "        return x * fact(x-1) # 재귀함수에서 호출 스택이라고 불리는 스택을 사용\n",
    "    \n",
    "fact(4)"
   ]
  }
 ],
 "metadata": {
  "kernelspec": {
   "display_name": "Python 3",
   "language": "python",
   "name": "python3"
  },
  "language_info": {
   "codemirror_mode": {
    "name": "ipython",
    "version": 3
   },
   "file_extension": ".py",
   "mimetype": "text/x-python",
   "name": "python",
   "nbconvert_exporter": "python",
   "pygments_lexer": "ipython3",
   "version": "3.6.3"
  }
 },
 "nbformat": 4,
 "nbformat_minor": 2
}
