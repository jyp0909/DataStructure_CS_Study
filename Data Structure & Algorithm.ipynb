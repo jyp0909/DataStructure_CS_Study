{
 "cells": [
  {
   "cell_type": "markdown",
   "metadata": {},
   "source": [
    "# 이진 탐색(Binary Search)\n",
    "- 검색 범위를 반으로 줄여 나가면서 원하는 데이터를 검색하는 매우 빠른 알고리즘\n",
    "- 처음 중간의 값을 임의의 값으로 선택하여, 그 값과 찾고자 하는 값의 크고 작음을 비교하는 방식을 채택하고 있다. 처음 선택한 중앙값이 만약 찾는 값보다 크면 그 값은 새로운 최고값이 되며, 작으면 그 값은 새로운 최하값이 된다.\n",
    "- 입력으로 미리 정렬된 원소 리스트를 받아야 함\n",
    "- O(log n)"
   ]
  },
  {
   "cell_type": "code",
   "execution_count": 6,
   "metadata": {
    "collapsed": true
   },
   "outputs": [],
   "source": [
    "def binary_search(list, item):\n",
    "    low = 0             # low와 high는 전체 리스트 중에서 어떤 부분을 탐색해야 하는지 알려줌\n",
    "    high = len(list) - 1\n",
    "\n",
    "    while low <= high:  # 탐색 범위를 하나로 줄이지 못하면 계속 실행\n",
    "        mid = (low + high) // 2  # 가운데 숫자를 확인(// 연산자를 쓰는 이유는 정수값을 얻기위해)\n",
    "        guess = list[mid]\n",
    "        \n",
    "        if guess == item:\n",
    "            return mid\n",
    "        if guess > item:\n",
    "            high = mid - 1\n",
    "        else: # guess < item 인 경우\n",
    "            low = mid + 1\n",
    "    return None"
   ]
  },
  {
   "cell_type": "code",
   "execution_count": 6,
   "metadata": {},
   "outputs": [
    {
     "name": "stdout",
     "output_type": "stream",
     "text": [
      "4\n",
      "None\n"
     ]
    }
   ],
   "source": [
    "my_list = [1, 4, 6, 7, 8, 17, 23]\n",
    "\n",
    "print(binary_search(my_list, 8))\n",
    "print(binary_search(my_list, -1))"
   ]
  },
  {
   "cell_type": "markdown",
   "metadata": {},
   "source": [
    "# Big O notation  \n",
    "- 알고리즘이 동작하기 위해 필요한 연산 횟수를 나타냄\n",
    "- 모든 경우의 연산 횟수를 가지는 최악의 경우에 대한 것\n",
    "- 많이 사용하는 빅오 실행 시간의 예(빠른 것부터 느린 순서)\n",
    "  0. O(log n), 로그 시간: 예) 이진 탐색 \n",
    "  0. O(n), 선형 시간: 예) 단순 탐색\n",
    "  0. O(n * log n): 예) 퀵 정렬과 같은 빠른 정렬 알고리즘\n",
    "  0. O(n^2): 예) 선택 정렬과 같은 느린 정렬 알고리즘\n",
    "  0. O(n!): 예) 외판원 문제와 같이 정말 느린 알고리즘\n",
    "  0. O(1), 상수 시간: 예) 평균적인 경우의 해시 함수"
   ]
  },
  {
   "cell_type": "markdown",
   "metadata": {},
   "source": [
    "# 연결 리스트(Linked List)와 배열(Array)\n",
    "- 연결 리스트(Linked List)\n",
    "  - 각 노드가 데이터와 포인터를 가지고 한 줄로 연결되어 있는 방식\n",
    "  - 각 원소에는 목록의 다음 원소에 대한 주소가 저장되어 있음\n",
    "  - 이웃하지 않은 여러 가지 임의의 메모리 주소들이 하나의 목록으로 연결되어 있는 것 \n",
    " \n",
    "  - 장점\n",
    "    - 원소를 추가, 삭제하기 좋음\n",
    "    \n",
    "  - 단점\n",
    "    - 특정 원소를 알기 위해서는 앞의 원소부터 순차적으로 찾아 나가야 함(원소가 이웃 하고 있지 않기 때문)\n",
    "    - 순차 접근(sequential access)만 가능\n",
    "    \n",
    "- 배열(Array)\n",
    "  - 순서대로 번호가 붙은 원소들이 연속적인 형태로 구성된 구조\n",
    "  - 모든 원소의 주소를 다 알고 있음\n",
    "  \n",
    "  - 장점\n",
    "    - 임의의 원소값을 쉽게 읽을 수 있음(임의 접근(random access)이 가능)\n",
    "    - 읽기 속도가 빠름\n",
    "  \n",
    "  - 단점\n",
    "    - 원소를 삽입하기 위해서는 다음에 오는 모든 원소의 위치를 바꾸어야 함\n",
    "***\n",
    "\n",
    "|      | 배열 | 리스트 |\n",
    "|------|------|--------|\n",
    "| 읽기 | O(1) | O(n)   |\n",
    "| 삽입 | O(n) | O(1)   |\n",
    "| 삭제 | O(n) | O(1)   |"
   ]
  },
  {
   "cell_type": "markdown",
   "metadata": {},
   "source": [
    "# 선택 정렬(Selection Sort)\n",
    "- 주어진 리스트에서 최솟값을 찾아 오름차순으로 정렬하는 방법\n",
    "- 1. 주어진 리스트 중에 최솟값을 찾는다.\n",
    "  2. 그 값을 맨 앞에 위치한 값과 교체한다(패스(pass)).\n",
    "  3. 맨 처음 위치를 뺀 나머지 리스트를 같은 방법으로 교체한다.\n",
    "- 깔끔한 알고리즘 이지만 빠르진 않음\n",
    "- O(n^2)"
   ]
  },
  {
   "cell_type": "code",
   "execution_count": 3,
   "metadata": {},
   "outputs": [
    {
     "name": "stdout",
     "output_type": "stream",
     "text": [
      "[3, 6, 7, 8, 15]\n"
     ]
    }
   ],
   "source": [
    "# 배열에서 가장 작은 원소를 찾는 함수\n",
    "def findSmallest(arr):\n",
    "    smallest = arr[0]  # 가장 작은 정수를 저장하는 변수\n",
    "    smallest_index = 0  # 가장 작은 정수의 인덱스를 저장하는 변수\n",
    "    for i in range(1, len(arr)):\n",
    "        if arr[i] < smallest:\n",
    "            smallest = arr[i]\n",
    "            smallest_index = i\n",
    "    return smallest_index\n",
    "    \n",
    "def selectionSort(arr):\n",
    "    newArr = []\n",
    "    for i in range(len(arr)):\n",
    "        smallest = findSmallest(arr)  # 배열에서 가장 작은 정수를 찾아 새로운 배열에 추가\n",
    "        newArr.append(arr.pop(smallest))\n",
    "    return newArr\n",
    "\n",
    "print(selectionSort([6, 7, 3, 8, 15]))"
   ]
  },
  {
   "cell_type": "markdown",
   "metadata": {},
   "source": [
    "# 재귀(Recursion)\n",
    "- 함수가 자기 자신을 호출하는 것\n",
    "- 재귀 함수는 기본 단계(Base case)와 재귀 단계(Recursive case)로 이루어져 있음\n",
    "  - 기본 단계는 함수가 자기 자신을 다시 호출하지 않는 경우, 즉 무한 반복으로 빠져들지 않게 하는 부분\n",
    "  - 재귀 단계는 함수가 자기 자신을 호출하는 부분\n",
    "- 재귀를 쓴다고 성능이 더 나아지지는 않는다. 사실 반복문이 더 성능이 좋은 경우가 많다.  \n",
    "  프로그램에 반복문을 사용하면 프로그램의 성능을 향상시킬 수 있지만, 재귀를 사용하면 프로그래머의 능력을 향상시킬 수 있다. - 레이 캐드웰  \n",
    "  => 상황에 따라 적절한 방법을 골라 사용하자"
   ]
  },
  {
   "cell_type": "code",
   "execution_count": 4,
   "metadata": {},
   "outputs": [
    {
     "name": "stdout",
     "output_type": "stream",
     "text": [
      "3\n",
      "2\n",
      "1\n"
     ]
    }
   ],
   "source": [
    "def countdown(i):\n",
    "    print(i)\n",
    "    if i <= 1:  # 기본 단계(무한 반복으로 빠져들지 않게 하는 부분)\n",
    "        return\n",
    "    else:\n",
    "        countdown(i-1)  # 재귀 단계\n",
    "        \n",
    "countdown(3)"
   ]
  },
  {
   "cell_type": "markdown",
   "metadata": {},
   "source": [
    "# 스택(Stack)\n",
    "- Push(삽입)와 Pop(떼어내고 읽기)만 가능한 자료구조\n",
    "- 새 항목을 추가할 때 기존의 목록 위에 쌓게된다.  \n",
    "  항목을 읽을 때는 가장 위에 있는 항목만 읽고 떼어낼 수 있다.\n",
    "- 후입선출(Last-In, First-Out; LIFO)의 자료구조\n",
    "- 스택을 사용하면 편리하긴 하지만 모든 정보를 저장해야 하기때문에 메모리를 많이 소비함"
   ]
  },
  {
   "cell_type": "code",
   "execution_count": 1,
   "metadata": {},
   "outputs": [
    {
     "data": {
      "text/plain": [
       "24"
      ]
     },
     "execution_count": 1,
     "metadata": {},
     "output_type": "execute_result"
    }
   ],
   "source": [
    "def fact(x):\n",
    "    if x == 1:\n",
    "        return 1\n",
    "    else:\n",
    "        return x * fact(x-1) # 재귀함수에서 호출 스택이라고 불리는 스택을 사용\n",
    "                             # 호출 스택: 여러 개의 함수를 호출하면서 함수에 사용되는 변수를\n",
    "                             #           저장하는 스택\n",
    "fact(4)"
   ]
  },
  {
   "cell_type": "markdown",
   "metadata": {},
   "source": [
    "# 퀵 정렬(Quick Sort)\n",
    "- 선택 정렬보다 빠름, 평균적인 상황에서 최고의 성능을 나타냄\n",
    "- 최악의 경우에는 시간복잡도가 O(n^2)가 되는데, 기준 원소를 최솟값이나 최댓값으로 계속해서 잡게 되는 경우\n",
    "- 분할 정복 전략(재귀적 알고리즘)을 사용(알고리즘보다는 방법론에 가까움)  \n",
    "  1. 가장 간단한 경우로 기본 단계를 찾는다.\n",
    "  2. 주어진 문제를 작게 줄여서 기본 단계가 되도록 만드는 법을 찾는다.  \n",
    "  (비어 있는 배열이나 원소가 하나인 배열이 기본 단계가 됨)\n",
    "- 배열을 정리하는 방법\n",
    "  1. 기준 원소(Pivot)를 고른다.\n",
    "  2. 배열을 기준 원소보다 작은 원소의 배열과 기준 원소보다 큰 원소의 배열, 이렇게 두 개의 하위 배열로 분할(Partitioning)한다.  \n",
    "  => 기준 원소보다 작은 원소의 하위 배열 / 기준 원소 / 기준 원소보다 큰 원소의 하위 배열\n",
    "  3. 하위 배열에 대해 재귀적으로 퀵 정렬을 호출한다.\n",
    "  4. 어떤 기준 원소를 고르든 두 개의 하위 배열에 재귀적으로 퀵 정렬을 호출하면 된다.\n",
    "- 최악의 경우 O(n), 최선의 경우 O(log n)"
   ]
  },
  {
   "cell_type": "code",
   "execution_count": 4,
   "metadata": {},
   "outputs": [
    {
     "name": "stdout",
     "output_type": "stream",
     "text": [
      "[1, 2, 3, 5, 8, 11, 26, 40]\n"
     ]
    }
   ],
   "source": [
    "def quickSort(array):\n",
    "    if len(array) < 2:\n",
    "        return array  # 기본 단계: 원소의 개수가 0이나 1이면 이미 정렬되어 있는 상태\n",
    "    else:\n",
    "        pivot = array[0]\n",
    "        less = [i for i in array[1:] if i <= pivot]\n",
    "        greater = [i for i in array[1:] if i > pivot]\n",
    "        \n",
    "        return quicksort(less) + [pivot] + quicksort(greater)\n",
    "    \n",
    "print(quickSort([2, 1, 3, 5, 11, 8, 26, 40]))"
   ]
  },
  {
   "cell_type": "markdown",
   "metadata": {},
   "source": [
    "# 병합 정렬(Merge Sort)\n",
    "- 배열의 원소 개수가 1 또는 0이 될 때까지 두 부분으로 분할해서 (두 개씩이 될때까지) 자른 순서의 역순으로 크기를 비교해 병합해 나가는 정렬방식, 대표적 분할 정복 알고리즘 중 하나\n",
    "- O(n*log n)"
   ]
  },
  {
   "cell_type": "code",
   "execution_count": null,
   "metadata": {
    "collapsed": true
   },
   "outputs": [],
   "source": [
    "def mergeSort(array):\n",
    "    if len(array) < 2:\n",
    "        return array\n",
    "    else:\n",
    "        "
   ]
  },
  {
   "cell_type": "markdown",
   "metadata": {},
   "source": [
    "# 해시 함수(Hash Function)\n",
    "- 문자열(string)을 받아서 숫자를 반환하는 함수  \n",
    "  문자열에 대해 숫자를 할당(mapping)한다.\n",
    "- 해시 함수에는 일관성이 있어야 함\n",
    "- 해시 테이블은 해시 맵, 맵, 딕셔너리, 연관 배열 이라는 이름으로도 알려져 있음\n",
    "- 파이썬에는 딕셔너리라고 불리는 해시 테이블이 있음  \n",
    "  키(key)와 값(value)을 가짐\n",
    "- 장점  \n",
    "  1. 어떤 것과 다른 것 사이의 관계를 모형화할 수 있음\n",
    "  2. 중복을 막을 수 있음\n",
    "  3. 서버에게 작업을 시키지 않고 자료를 캐싱할 수 있음\n",
    "- 이상적인 해시 함수는 키를 해시 테이블 전체에 고르게 할당해야함\n",
    "- 평균적인 경우 모든 항목에 대해 O(1) 시간이 걸림(매우 빠름)  \n",
    "  ※ O(1)은 상수 시간이라고 불림 => 상수 시간은 순간적이라는 뜻이 아니라 해시 테이블의 크기에 상관없이 항상 똑같은 시간이 걸린다는 의미  \n",
    "  최악의 경우에는 모든 항목에 대해 O(n) 시간(선형 시간)이 걸림"
   ]
  },
  {
   "cell_type": "markdown",
   "metadata": {},
   "source": [
    "|      | 해시 테이블 (평균적인 경우) | 해시 테이블 (최악의 경우) | 배열 | 연결 리스트 |\n",
    "|:----:|:---------------------------:|:-------------------------:|:----:|:-----------:|\n",
    "| 탐색 |             O(1)            |            O(n)           | O(1) |     O(n)    |\n",
    "| 삽입 |             O(1)            |            O(n)           | O(n) |     O(1)    |\n",
    "| 삭제 |             O(1)            |            O(n)           | O(n) |     O(1)    |"
   ]
  },
  {
   "cell_type": "markdown",
   "metadata": {},
   "source": [
    "# 너비 우선 탐색(Breadth-First Search)\n",
    "- 시작 정점을 방문한 후 시작 정점에 인접한 모든 정점들을 우선 방문하는 방법  \n",
    "  (깊이를 우선시하는 깊이 우선 탐색법(Depth First Search)도 있음)\n",
    "- 더 이상 방문하지 않은 정점이 없을 때까지 방문하지 않은 모든 정점들에 대해서도 넓이 우선 검색을 적용\n",
    "- <정점 A에서 정점 B로 가는 경로가 존재 하는지> 혹은, <정점 A에서 정점 B로 가는 최단 경로는 무엇인지> 찾을 때 사용\n",
    "- 큐(Queue) 자료구조를 사용"
   ]
  },
  {
   "cell_type": "markdown",
   "metadata": {},
   "source": [
    "# 큐(Queue)\n",
    "- 실생활에서의 큐(대기열)와 완전히 같은 개념\n",
    "- 데이터가 들어오는 위치는 가장 뒤(Rear 또는 Back이라고 한다.)에 있고, 데이터가 나가는 위치는 가장 앞(Front라고 한다.)에 있어서, 먼저 들어오는 데이터가 먼저 나가게 된다\n",
    "- 큐에는 삽입(Enqueue)과 제거(Dequeue)의 두 가지 연산이 있음\n",
    "- 선입선출(First-In, First-Out; FIFO)의 자료구조"
   ]
  },
  {
   "cell_type": "code",
   "execution_count": null,
   "metadata": {
    "collapsed": true
   },
   "outputs": [],
   "source": [
    "def search(name):\n",
    "    search_queue = deque()\n",
    "    search_queue += graph[name]\n",
    "    searched = []\n",
    "    while search_queue:\n",
    "        person"
   ]
  },
  {
   "cell_type": "markdown",
   "metadata": {},
   "source": [
    "# 깊이 우선 탐색(Depth-First Search)\n",
    "- 트리나 그래프에서 한 루트로 탐색하다가 특정 상황에서 최대한 깊숙히 들어가서 확인한 뒤 다시 돌아가 다른 루트로 탐색하는 방식"
   ]
  },
  {
   "cell_type": "code",
   "execution_count": null,
   "metadata": {
    "collapsed": true
   },
   "outputs": [],
   "source": []
  }
 ],
 "metadata": {
  "kernelspec": {
   "display_name": "Python 3",
   "language": "python",
   "name": "python3"
  },
  "language_info": {
   "codemirror_mode": {
    "name": "ipython",
    "version": 3
   },
   "file_extension": ".py",
   "mimetype": "text/x-python",
   "name": "python",
   "nbconvert_exporter": "python",
   "pygments_lexer": "ipython3",
   "version": "3.6.3"
  }
 },
 "nbformat": 4,
 "nbformat_minor": 2
}
